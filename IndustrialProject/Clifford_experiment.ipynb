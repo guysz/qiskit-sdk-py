{
 "cells": [
  {
   "cell_type": "markdown",
   "metadata": {},
   "source": [
    "# First Clifford Experiment\n",
    "\n",
    "### Description\n",
    "This notebook demonstrates a simple experiment for analyzing quantum noises.<br>\n",
    "In the experiment, we will run a simple circuit on both _qasm simulator_ and _clifford simulator_ with different noise parameters (_pauli_).\n",
    "\n",
    "##### Circuit Description\n",
    "The circuit we will use contains 3 qubits and on each qubit an _id_ gate is placed, in addition measurement gates is placed on all qubits at the end of the circuit.\n",
    "![title](images/first_clifford_experiment.png)\n",
    "\n",
    "##### Specifics\n",
    "For each run of the simulator we get a vector of lenght 8 (because we have 3 qubits) which contains the measurements results.\n",
    "\n",
    "First we will normalize the vector by divide its values by number of shots.\n",
    "Then we will multiply the vector by its transpose to create a covariance matrix.\n",
    "\n",
    "Given the _exact covariance matrix_ and _clifford covariance matrix_ resulted from running the exact and clifford simulator with the same noise parameters, we will calculate the Frobenius norm of the matrices difference."
   ]
  },
  {
   "cell_type": "markdown",
   "metadata": {},
   "source": [
    "### imports and function defenitions"
   ]
  },
  {
   "cell_type": "code",
   "execution_count": 1,
   "metadata": {},
   "outputs": [],
   "source": [
    "import sys\n",
    "import numpy as np\n",
    "sys.path.append(\"../\")\n",
    "import qiskit.backends.local.qasm_simulator_cpp as qs\n",
    "SIM_EXECUTABLE = '../out/src/qasm-simulator-cpp/qasm_simulator_cpp'\n",
    "\n",
    "def generate_counts_vec(sim_output):\n",
    "    \"\"\"Returns ndarray of length 8 which contains result counts devided by shots_num\"\"\"\n",
    "    vec = np.zeros(8, dtype=int)\n",
    "    for i, count in sim_output['result'][0]['data']['counts'].items():\n",
    "        vec[int(i, 2)] = count\n",
    "        \n",
    "    return vec[np.newaxis] / sim_output['result'][0]['shots']\n",
    "\n",
    "def run(qobj):\n",
    "    \"\"\"\n",
    "    Runs both simulators (noise params should be already set in qobj)\n",
    "    Then compute the norm.\n",
    "    \"\"\"\n",
    "\n",
    "    # run exact simulator\n",
    "    qobj['config']['backend'] = 'local_qasm_simulator_cpp'\n",
    "    exact_vec = generate_counts_vec(qs.run(qobj, SIM_EXECUTABLE))\n",
    "    \n",
    "    # run clifford simulator\n",
    "    qobj['config']['backend'] = 'local_clifford_simulator_cpp'\n",
    "    clifford_vec = generate_counts_vec(qs.run(qobj, SIM_EXECUTABLE))\n",
    "    \n",
    "    exact_matrix = exact_vec.T * exact_vec\n",
    "    clifford_matrix = clifford_vec.T * clifford_vec\n",
    "    \n",
    "    return np.linalg.norm(exact_matrix - clifford_matrix)\n"
   ]
  },
  {
   "cell_type": "markdown",
   "metadata": {},
   "source": [
    "### qobj definition"
   ]
  },
  {
   "cell_type": "code",
   "execution_count": 2,
   "metadata": {},
   "outputs": [],
   "source": [
    "qobj = {\n",
    "  \"id\": \"First Clifford Experiment\",\n",
    "  \"config\": {\n",
    "      \"noise_params\": {\n",
    "        \"id\": {\"p_pauli\": [0, 0, 0]}\n",
    "      },\n",
    "      \"shots\": 1024,\n",
    "      \"seed\": 412\n",
    "  },\n",
    "  \"circuits\": [\n",
    "    {\n",
    "      \"compiled_circuit\": {\n",
    "        \"header\": {\n",
    "                    \"number_of_clbits\": 3,\n",
    "                    \"number_of_qubits\": 3,\n",
    "                    \"clbit_labels\": [[\"c\", 3]],\n",
    "                    \"qubit_labels\": [[\"q\", 0], [\"q\", 1], [\"q\", 2]]\n",
    "                },\n",
    "        \"operations\": [\n",
    "                    {\"name\": \"id\", \"qubits\": [0]},\n",
    "                    {\"name\": \"id\", \"qubits\": [1]},\n",
    "                    {\"name\": \"id\", \"qubits\": [2]},\n",
    "                    {\"name\": \"measure\", \"qubits\": [0], \"clbits\": [0]},\n",
    "                    {\"name\": \"measure\", \"qubits\": [1], \"clbits\": [1]},\n",
    "                    {\"name\": \"measure\", \"qubits\": [2], \"clbits\": [2]}\n",
    "                ]\n",
    "      }\n",
    "    }\n",
    "  ]\n",
    "}\n"
   ]
  },
  {
   "cell_type": "markdown",
   "metadata": {},
   "source": [
    "### Running the experiment"
   ]
  },
  {
   "cell_type": "code",
   "execution_count": 3,
   "metadata": {},
   "outputs": [],
   "source": [
    "x_noises = []\n",
    "y_noises = []\n",
    "z_noises = []\n",
    "single_axis_noise_params = np.linspace(0, 1, num=100, dtype=float)\n",
    "for p in single_axis_noise_params:\n",
    "    # run circuit with noises on x axis\n",
    "    qobj['config']['noise_params']['id']['p_pauli'] = [p, 0, 0]\n",
    "    x_noises.append(run(qobj))\n",
    "    \n",
    "    # run circuit with noises on y axis\n",
    "    qobj['config']['noise_params']['id']['p_pauli'] = [0, p, 0]\n",
    "    y_noises.append(run(qobj))\n",
    "    \n",
    "    # run circuit with noises on z axis\n",
    "    qobj['config']['noise_params']['id']['p_pauli'] = [0, 0, p]\n",
    "    z_noises.append(run(qobj))\n"
   ]
  },
  {
   "cell_type": "markdown",
   "metadata": {},
   "source": [
    "### Plot the results"
   ]
  },
  {
   "cell_type": "code",
   "execution_count": 4,
   "metadata": {},
   "outputs": [
    {
     "data": {
      "image/png": "[encoded data removed]",
      "text/plain": [
       "<matplotlib.figure.Figure at 0x7f4bfe55b048>"
      ]
     },
     "metadata": {},
     "output_type": "display_data"
    }
   ],
   "source": [
    "import matplotlib.pyplot as plt\n",
    "%matplotlib inline\n",
    "x_legend = 'X - avarage = %.3f' % (sum(x_noises) / len(x_noises))\n",
    "y_legend = 'Y - avarage = %.3f' % (sum(y_noises) / len(y_noises))\n",
    "z_legend = 'Z - avarage = %.3f' % (sum(z_noises) / len(z_noises))\n",
    "\n",
    "plt.rcParams['figure.figsize'] = [10, 7]\n",
    "\n",
    "plt.plot(single_axis_noise_params, x_noises)\n",
    "plt.plot(single_axis_noise_params, y_noises)\n",
    "plt.plot(single_axis_noise_params, z_noises)\n",
    "\n",
    "plt.legend([x_legend, y_legend, z_legend], loc='best', prop={'size': 14})\n",
    "plt.xlabel('Noise Parameter', fontsize=16)\n",
    "plt.ylabel('Frobenius Norm of matrices difference', fontsize=16)\n",
    "pass"
   ]
  }
 ],
 "metadata": {
  "kernelspec": {
   "display_name": "Python 3",
   "language": "python",
   "name": "python3"
  },
  "language_info": {
   "codemirror_mode": {
    "name": "ipython",
    "version": 3
   },
   "file_extension": ".py",
   "mimetype": "text/x-python",
   "name": "python",
   "nbconvert_exporter": "python",
   "pygments_lexer": "ipython3",
   "version": "3.6.4"
  }
 },
 "nbformat": 4,
 "nbformat_minor": 2
}
