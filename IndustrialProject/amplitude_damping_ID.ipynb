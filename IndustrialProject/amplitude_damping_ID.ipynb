{
 "cells": [
  {
   "cell_type": "markdown",
   "metadata": {},
   "source": [
    "# Amplitude damping experience\n",
    "#### Todo: Need to document"
   ]
  },
  {
   "cell_type": "code",
   "execution_count": 1,
   "metadata": {},
   "outputs": [],
   "source": [
    "import sys\n",
    "from IPython.core.debugger import set_trace\n",
    "import numpy as np\n",
    "sys.path.append(\"../\")\n",
    "import qiskit.backends.local.qasm_simulator_cpp as qs\n",
    "SIM_EXECUTABLE = '../../yael_branch/qiskit-sdk-py/out/qiskit_simulator'\n",
    "\n",
    "def generate_counts_vec(sim_output):\n",
    "    \"\"\"Returns ndarray of length 8 which contains result counts devided by shots_num\"\"\"\n",
    "    vec = np.zeros(8, dtype=int)\n",
    "    for i, count in sim_output['result'][0]['data']['counts'].items():\n",
    "        vec[int(i, 2)] = count\n",
    "        \n",
    "    return vec[np.newaxis] / sim_output['result'][0]['shots']\n",
    "\n",
    "def matrices_calc(g):\n",
    "    \"\"\"\n",
    "    Returns two matrices of size 2x2:\n",
    "    E0 = [\n",
    "            [1,0],\n",
    "            [0, sqrt(1-g)]\n",
    "         ]\n",
    "         \n",
    "    E1 = [\n",
    "            [0, sqrt(g)],\n",
    "            [0,0]\n",
    "         ]\n",
    "    \"\"\"\n",
    "    assert 0 < g < 1, \"Gamma (g) must be between zero to one\"\n",
    "    return [[1, 0], [0, np.sqrt(1-g)]], [[0, np.sqrt(g)], [0, 0]]\n",
    "\n",
    "def p_calc(g):\n",
    "    \"\"\"\n",
    "    Returns p out of Gamma - g/2 + 0.5*sqrt(1-g) + 0.5\n",
    "    \"\"\"\n",
    "    assert 0 < g < 1, \"Gamma (g) must be between zero to one\"\n",
    "    return g/2 - 0.5*np.sqrt(1-g) + 0.5\n",
    "\n",
    "def t_calc(p, r):\n",
    "    return -(np.log(1-p))/r\n",
    "\n",
    "def prepare_qobj_exact(qobj, gamma):\n",
    "    qobj['config']['backend'] = 'local_qasm_simulator_cpp'\n",
    "    qobj['config']['noise_params'] = {}\n",
    "    qobj['config']['noise_params']['operator_sum'] = matrices_calc(gamma)\n",
    "    \n",
    "def prepare_qobj_clifford(qobj, gamma, r):\n",
    "    qobj['config']['backend'] = 'local_clifford_simulator_cpp'\n",
    "    qobj['config']['noise_params'] = {}\n",
    "    qobj['config']['noise_params']['relaxation_rate'] = r\n",
    "    qobj['config']['noise_params']['thermal_populations'] = [1.0, 0.0]\n",
    "    qobj['config']['noise_params']['id'] = {}\n",
    "    qobj['config']['noise_params']['id']['gate_time'] = t_calc(p_calc(gamma), r)\n",
    "    \n",
    "def run(qobj, gamma, r):\n",
    "    \"\"\"\n",
    "    Runs both simulators\n",
    "    Then compute the norm.\n",
    "    \"\"\"\n",
    "\n",
    "    # run exact simulator\n",
    "    prepare_qobj_exact(qobj, gamma)\n",
    "    exact_vec = generate_counts_vec(qs.run(qobj, SIM_EXECUTABLE))\n",
    "    \n",
    "    # run clifford simulator\n",
    "    prepare_qobj_clifford(qobj, gamma, r)\n",
    "    clifford_vec = generate_counts_vec(qs.run(qobj, SIM_EXECUTABLE))\n",
    "    \n",
    "    exact_matrix = exact_vec.T * exact_vec\n",
    "    clifford_matrix = clifford_vec.T * clifford_vec\n",
    "    \n",
    "    return np.linalg.norm(exact_matrix - clifford_matrix)\n",
    "\n",
    "\n"
   ]
  },
  {
   "cell_type": "code",
   "execution_count": 2,
   "metadata": {},
   "outputs": [],
   "source": [
    "qobj = {\n",
    "  \"id\": \"First Clifford Experiment\",\n",
    "  \"config\": {\n",
    "      \"shots\": 1024,\n",
    "      \"seed\": 412\n",
    "  },\n",
    "  \"circuits\": [\n",
    "    {\n",
    "      \"compiled_circuit\": {\n",
    "        \"header\": {\n",
    "                    \"number_of_clbits\": 3,\n",
    "                    \"number_of_qubits\": 3,\n",
    "                    \"clbit_labels\": [[\"c\", 3]],\n",
    "                    \"qubit_labels\": [[\"q\", 0], [\"q\", 1], [\"q\", 2]]\n",
    "                },\n",
    "        \"operations\": [\n",
    "                    {\"name\": \"id\", \"qubits\": [0]},\n",
    "                    {\"name\": \"id\", \"qubits\": [1]},\n",
    "                    {\"name\": \"id\", \"qubits\": [2]},\n",
    "                    {\"name\": \"measure\", \"qubits\": [0], \"clbits\": [0]},\n",
    "                    {\"name\": \"measure\", \"qubits\": [1], \"clbits\": [1]},\n",
    "                    {\"name\": \"measure\", \"qubits\": [2], \"clbits\": [2]}\n",
    "                ]\n",
    "      }\n",
    "    }\n",
    "  ]\n",
    "}"
   ]
  },
  {
   "cell_type": "code",
   "execution_count": 3,
   "metadata": {},
   "outputs": [],
   "source": [
    "r_list = [1.0, 1.5, 2.0, 2.5, 3]\n",
    "results = {}\n",
    "for r in r_list:\n",
    "    results[r] = []\n",
    "    gamma_range = np.linspace(0, 1, num=100, dtype=float, endpoint=False)[1:]\n",
    "    for gamma in gamma_range:\n",
    "        results[r].append(run(qobj, gamma, r))"
   ]
  },
  {
   "cell_type": "code",
   "execution_count": 4,
   "metadata": {},
   "outputs": [
    {
     "data": {
      "image/png": "[encoded data removed]",
      "text/plain": [
       "<matplotlib.figure.Figure at 0x7f4d746379b0>"
      ]
     },
     "metadata": {},
     "output_type": "display_data"
    }
   ],
   "source": [
    "import matplotlib.pyplot as plt\n",
    "%matplotlib inline\n",
    "\n",
    "plt.rcParams['figure.figsize'] = [10, 7]\n",
    "\n",
    "for r in r_list:\n",
    "    plt.plot(gamma_range, results[r])\n",
    "\n",
    "\n",
    "plt.legend(['r=%f' % r for r in r_list], loc='best', prop={'size': 14})\n",
    "plt.xlabel('Gamma', fontsize=16)\n",
    "plt.ylabel('Frobenius Norm of matrices difference', fontsize=16)\n",
    "pass"
   ]
  },
  {
   "cell_type": "code",
   "execution_count": null,
   "metadata": {},
   "outputs": [],
   "source": []
  }
 ],
 "metadata": {
  "kernelspec": {
   "display_name": "Python 3",
   "language": "python",
   "name": "python3"
  },
  "language_info": {
   "codemirror_mode": {
    "name": "ipython",
    "version": 3
   },
   "file_extension": ".py",
   "mimetype": "text/x-python",
   "name": "python",
   "nbconvert_exporter": "python",
   "pygments_lexer": "ipython3",
   "version": "3.6.4"
  }
 },
 "nbformat": 4,
 "nbformat_minor": 2
}
