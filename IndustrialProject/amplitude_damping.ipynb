{
 "cells": [
  {
   "cell_type": "markdown",
   "metadata": {},
   "source": [
    "# Amplitude damping experience\n",
    "#### Todo: Need to document"
   ]
  },
  {
   "cell_type": "code",
   "execution_count": 1,
   "metadata": {},
   "outputs": [],
   "source": [
    "import sys\n",
    "from IPython.core.debugger import set_trace\n",
    "import numpy as np\n",
    "sys.path.append(\"../\")\n",
    "import qiskit.backends.local.qasm_simulator_cpp as qs\n",
    "SIM_EXECUTABLE = '../../yael_branch/qiskit-sdk-py/out/qiskit_simulator'\n",
    "\n",
    "def generate_counts_vec(sim_output):\n",
    "    \"\"\"Returns ndarray of length 8 which contains result counts devided by shots_num\"\"\"\n",
    "    vec = np.zeros(8, dtype=int)\n",
    "    for i, count in sim_output['result'][0]['data']['counts'].items():\n",
    "        vec[int(i, 2)] = count\n",
    "        \n",
    "    return vec[np.newaxis] / sim_output['result'][0]['shots']\n",
    "\n",
    "def matrices_calc(g):\n",
    "    \"\"\"\n",
    "    Returns two matrices of size 2x2:\n",
    "    E0 = [\n",
    "            [1,0],\n",
    "            [0, sqrt(1-g)]\n",
    "         ]\n",
    "         \n",
    "    E1 = [\n",
    "            [0, sqrt(g)],\n",
    "            [0,0]\n",
    "         ]\n",
    "    \"\"\"\n",
    "    assert 0 < g < 1, \"Gamma (g) must be between zero to one\"\n",
    "    return [[1, 0], [0, np.sqrt(1-g)]], [[0, np.sqrt(g)], [0, 0]]\n",
    "\n",
    "def p_calc(g):\n",
    "    \"\"\"\n",
    "    Returns p out of Gamma - g/2 + 0.5*sqrt(1-g) + 0.5\n",
    "    \"\"\"\n",
    "    assert 0 < g < 1, \"Gamma (g) must be between zero to one\"\n",
    "    return g/2 - 0.5*np.sqrt(1-g) + 0.5\n",
    "\n",
    "def t_calc(p, r):\n",
    "    return -(np.log(1-p))/r\n",
    "\n",
    "def prepare_qobj_exact(qobj, gamma):\n",
    "    qobj['config']['backend'] = 'local_qasm_simulator_cpp'\n",
    "    qobj['noise_params'] = {}\n",
    "    qobj['noise_params']['operator_sum'] = matrices_calc(gamma)\n",
    "    \n",
    "def prepare_qobj_clifford(qobj, gamma, r):\n",
    "    qobj['config']['backend'] = 'local_clifford_simulator_cpp'\n",
    "    qobj['noise_params'] = {}\n",
    "    qobj['noise_params']['relaxation_rate'] = r\n",
    "    qobj['noise_params']['thermal_populations'] = [1.0, 0.0]\n",
    "    qobj['noise_params']['id'] = {}\n",
    "    qobj['noise_params']['id']['gate_time'] = t_calc(p_calc(gamma), r)\n",
    "    \n",
    "def run(qobj, gamma, r):\n",
    "    \"\"\"\n",
    "    Runs both simulators\n",
    "    Then compute the norm.\n",
    "    \"\"\"\n",
    "\n",
    "    # run exact simulator\n",
    "    prepare_qobj_exact(qobj, gamma)\n",
    "    exact_vec = generate_counts_vec(qs.run(qobj, SIM_EXECUTABLE))\n",
    "    \n",
    "    # run clifford simulator\n",
    "    prepare_qobj_clifford(qobj, gamma, r)\n",
    "    clifford_vec = generate_counts_vec(qs.run(qobj, SIM_EXECUTABLE))\n",
    "    \n",
    "    exact_matrix = exact_vec.T * exact_vec\n",
    "    clifford_matrix = clifford_vec.T * clifford_vec\n",
    "    \n",
    "    return np.linalg.norm(exact_matrix - clifford_matrix)\n",
    "\n",
    "\n"
   ]
  },
  {
   "cell_type": "code",
   "execution_count": 2,
   "metadata": {},
   "outputs": [],
   "source": [
    "qobj = {\n",
    "  \"id\": \"First Clifford Experiment\",\n",
    "  \"config\": {\n",
    "      \"shots\": 1024,\n",
    "      \"seed\": 412\n",
    "  },\n",
    "  \"circuits\": [\n",
    "    {\n",
    "      \"compiled_circuit\": {\n",
    "        \"header\": {\n",
    "                    \"number_of_clbits\": 3,\n",
    "                    \"number_of_qubits\": 3,\n",
    "                    \"clbit_labels\": [[\"c\", 3]],\n",
    "                    \"qubit_labels\": [[\"q\", 0], [\"q\", 1], [\"q\", 2]]\n",
    "                },\n",
    "        \"operations\": [\n",
    "                    {\"name\": \"id\", \"qubits\": [0]},\n",
    "                    {\"name\": \"id\", \"qubits\": [1]},\n",
    "                    {\"name\": \"id\", \"qubits\": [2]},\n",
    "                    {\"name\": \"measure\", \"qubits\": [0], \"clbits\": [0]},\n",
    "                    {\"name\": \"measure\", \"qubits\": [1], \"clbits\": [1]},\n",
    "                    {\"name\": \"measure\", \"qubits\": [2], \"clbits\": [2]}\n",
    "                ]\n",
    "      }\n",
    "    }\n",
    "  ]\n",
    "}"
   ]
  },
  {
   "cell_type": "code",
   "execution_count": 3,
   "metadata": {},
   "outputs": [
    {
     "name": "stderr",
     "output_type": "stream",
     "text": [
      "ERROR:qiskit.backends.local.qasm_simulator_cpp:ERROR: Simulator encountered a runtime error: terminate called recursively\n",
      "terminate called recursively\n",
      "\n"
     ]
    },
    {
     "ename": "JSONDecodeError",
     "evalue": "Expecting value: line 1 column 1 (char 0)",
     "output_type": "error",
     "traceback": [
      "\u001b[0;31m---------------------------------------------------------------------------\u001b[0m",
      "\u001b[0;31mJSONDecodeError\u001b[0m                           Traceback (most recent call last)",
      "\u001b[0;32m<ipython-input-3-87bb259b14aa>\u001b[0m in \u001b[0;36m<module>\u001b[0;34m()\u001b[0m\n\u001b[1;32m      5\u001b[0m     \u001b[0mgamma_range\u001b[0m \u001b[0;34m=\u001b[0m \u001b[0mnp\u001b[0m\u001b[0;34m.\u001b[0m\u001b[0mlinspace\u001b[0m\u001b[0;34m(\u001b[0m\u001b[0;36m0\u001b[0m\u001b[0;34m,\u001b[0m \u001b[0;36m1\u001b[0m\u001b[0;34m,\u001b[0m \u001b[0mnum\u001b[0m\u001b[0;34m=\u001b[0m\u001b[0;36m100\u001b[0m\u001b[0;34m,\u001b[0m \u001b[0mdtype\u001b[0m\u001b[0;34m=\u001b[0m\u001b[0mfloat\u001b[0m\u001b[0;34m,\u001b[0m \u001b[0mendpoint\u001b[0m\u001b[0;34m=\u001b[0m\u001b[0;32mFalse\u001b[0m\u001b[0;34m)\u001b[0m\u001b[0;34m[\u001b[0m\u001b[0;36m1\u001b[0m\u001b[0;34m:\u001b[0m\u001b[0;34m]\u001b[0m\u001b[0;34m\u001b[0m\u001b[0m\n\u001b[1;32m      6\u001b[0m     \u001b[0;32mfor\u001b[0m \u001b[0mgamma\u001b[0m \u001b[0;32min\u001b[0m \u001b[0mgamma_range\u001b[0m\u001b[0;34m:\u001b[0m\u001b[0;34m\u001b[0m\u001b[0m\n\u001b[0;32m----> 7\u001b[0;31m         \u001b[0mresults\u001b[0m\u001b[0;34m[\u001b[0m\u001b[0mr\u001b[0m\u001b[0;34m]\u001b[0m\u001b[0;34m.\u001b[0m\u001b[0mappend\u001b[0m\u001b[0;34m(\u001b[0m\u001b[0mrun\u001b[0m\u001b[0;34m(\u001b[0m\u001b[0mqobj\u001b[0m\u001b[0;34m,\u001b[0m \u001b[0mgamma\u001b[0m\u001b[0;34m,\u001b[0m \u001b[0mr\u001b[0m\u001b[0;34m)\u001b[0m\u001b[0;34m)\u001b[0m\u001b[0;34m\u001b[0m\u001b[0m\n\u001b[0m",
      "\u001b[0;32m<ipython-input-1-d4584bcba303>\u001b[0m in \u001b[0;36mrun\u001b[0;34m(qobj, gamma, r)\u001b[0m\n\u001b[1;32m     61\u001b[0m     \u001b[0;31m# run exact simulator\u001b[0m\u001b[0;34m\u001b[0m\u001b[0;34m\u001b[0m\u001b[0m\n\u001b[1;32m     62\u001b[0m     \u001b[0mprepare_qobj_exact\u001b[0m\u001b[0;34m(\u001b[0m\u001b[0mqobj\u001b[0m\u001b[0;34m,\u001b[0m \u001b[0mgamma\u001b[0m\u001b[0;34m)\u001b[0m\u001b[0;34m\u001b[0m\u001b[0m\n\u001b[0;32m---> 63\u001b[0;31m     \u001b[0mexact_vec\u001b[0m \u001b[0;34m=\u001b[0m \u001b[0mgenerate_counts_vec\u001b[0m\u001b[0;34m(\u001b[0m\u001b[0mqs\u001b[0m\u001b[0;34m.\u001b[0m\u001b[0mrun\u001b[0m\u001b[0;34m(\u001b[0m\u001b[0mqobj\u001b[0m\u001b[0;34m,\u001b[0m \u001b[0mSIM_EXECUTABLE\u001b[0m\u001b[0;34m)\u001b[0m\u001b[0;34m)\u001b[0m\u001b[0;34m\u001b[0m\u001b[0m\n\u001b[0m\u001b[1;32m     64\u001b[0m \u001b[0;34m\u001b[0m\u001b[0m\n\u001b[1;32m     65\u001b[0m     \u001b[0;31m# run clifford simulator\u001b[0m\u001b[0;34m\u001b[0m\u001b[0;34m\u001b[0m\u001b[0m\n",
      "\u001b[0;32m~/QISkit/qiskit-sdk-py/qiskit/backends/local/qasm_simulator_cpp.py\u001b[0m in \u001b[0;36mrun\u001b[0;34m(qobj, executable)\u001b[0m\n\u001b[1;32m    218\u001b[0m                          cerr.decode())\n\u001b[1;32m    219\u001b[0m         \u001b[0msim_output\u001b[0m \u001b[0;34m=\u001b[0m \u001b[0mcout\u001b[0m\u001b[0;34m.\u001b[0m\u001b[0mdecode\u001b[0m\u001b[0;34m(\u001b[0m\u001b[0;34m)\u001b[0m\u001b[0;34m\u001b[0m\u001b[0m\n\u001b[0;32m--> 220\u001b[0;31m         \u001b[0;32mreturn\u001b[0m \u001b[0mjson\u001b[0m\u001b[0;34m.\u001b[0m\u001b[0mloads\u001b[0m\u001b[0;34m(\u001b[0m\u001b[0msim_output\u001b[0m\u001b[0;34m,\u001b[0m \u001b[0mcls\u001b[0m\u001b[0;34m=\u001b[0m\u001b[0mQASMSimulatorDecoder\u001b[0m\u001b[0;34m)\u001b[0m\u001b[0;34m\u001b[0m\u001b[0m\n\u001b[0m\u001b[1;32m    221\u001b[0m \u001b[0;34m\u001b[0m\u001b[0m\n\u001b[1;32m    222\u001b[0m     \u001b[0;32mexcept\u001b[0m \u001b[0mFileNotFoundError\u001b[0m\u001b[0;34m:\u001b[0m\u001b[0;34m\u001b[0m\u001b[0m\n",
      "\u001b[0;32m~/anaconda3/lib/python3.6/json/__init__.py\u001b[0m in \u001b[0;36mloads\u001b[0;34m(s, encoding, cls, object_hook, parse_float, parse_int, parse_constant, object_pairs_hook, **kw)\u001b[0m\n\u001b[1;32m    365\u001b[0m     \u001b[0;32mif\u001b[0m \u001b[0mparse_constant\u001b[0m \u001b[0;32mis\u001b[0m \u001b[0;32mnot\u001b[0m \u001b[0;32mNone\u001b[0m\u001b[0;34m:\u001b[0m\u001b[0;34m\u001b[0m\u001b[0m\n\u001b[1;32m    366\u001b[0m         \u001b[0mkw\u001b[0m\u001b[0;34m[\u001b[0m\u001b[0;34m'parse_constant'\u001b[0m\u001b[0;34m]\u001b[0m \u001b[0;34m=\u001b[0m \u001b[0mparse_constant\u001b[0m\u001b[0;34m\u001b[0m\u001b[0m\n\u001b[0;32m--> 367\u001b[0;31m     \u001b[0;32mreturn\u001b[0m \u001b[0mcls\u001b[0m\u001b[0;34m(\u001b[0m\u001b[0;34m**\u001b[0m\u001b[0mkw\u001b[0m\u001b[0;34m)\u001b[0m\u001b[0;34m.\u001b[0m\u001b[0mdecode\u001b[0m\u001b[0;34m(\u001b[0m\u001b[0ms\u001b[0m\u001b[0;34m)\u001b[0m\u001b[0;34m\u001b[0m\u001b[0m\n\u001b[0m",
      "\u001b[0;32m~/anaconda3/lib/python3.6/json/decoder.py\u001b[0m in \u001b[0;36mdecode\u001b[0;34m(self, s, _w)\u001b[0m\n\u001b[1;32m    337\u001b[0m \u001b[0;34m\u001b[0m\u001b[0m\n\u001b[1;32m    338\u001b[0m         \"\"\"\n\u001b[0;32m--> 339\u001b[0;31m         \u001b[0mobj\u001b[0m\u001b[0;34m,\u001b[0m \u001b[0mend\u001b[0m \u001b[0;34m=\u001b[0m \u001b[0mself\u001b[0m\u001b[0;34m.\u001b[0m\u001b[0mraw_decode\u001b[0m\u001b[0;34m(\u001b[0m\u001b[0ms\u001b[0m\u001b[0;34m,\u001b[0m \u001b[0midx\u001b[0m\u001b[0;34m=\u001b[0m\u001b[0m_w\u001b[0m\u001b[0;34m(\u001b[0m\u001b[0ms\u001b[0m\u001b[0;34m,\u001b[0m \u001b[0;36m0\u001b[0m\u001b[0;34m)\u001b[0m\u001b[0;34m.\u001b[0m\u001b[0mend\u001b[0m\u001b[0;34m(\u001b[0m\u001b[0;34m)\u001b[0m\u001b[0;34m)\u001b[0m\u001b[0;34m\u001b[0m\u001b[0m\n\u001b[0m\u001b[1;32m    340\u001b[0m         \u001b[0mend\u001b[0m \u001b[0;34m=\u001b[0m \u001b[0m_w\u001b[0m\u001b[0;34m(\u001b[0m\u001b[0ms\u001b[0m\u001b[0;34m,\u001b[0m \u001b[0mend\u001b[0m\u001b[0;34m)\u001b[0m\u001b[0;34m.\u001b[0m\u001b[0mend\u001b[0m\u001b[0;34m(\u001b[0m\u001b[0;34m)\u001b[0m\u001b[0;34m\u001b[0m\u001b[0m\n\u001b[1;32m    341\u001b[0m         \u001b[0;32mif\u001b[0m \u001b[0mend\u001b[0m \u001b[0;34m!=\u001b[0m \u001b[0mlen\u001b[0m\u001b[0;34m(\u001b[0m\u001b[0ms\u001b[0m\u001b[0;34m)\u001b[0m\u001b[0;34m:\u001b[0m\u001b[0;34m\u001b[0m\u001b[0m\n",
      "\u001b[0;32m~/anaconda3/lib/python3.6/json/decoder.py\u001b[0m in \u001b[0;36mraw_decode\u001b[0;34m(self, s, idx)\u001b[0m\n\u001b[1;32m    355\u001b[0m             \u001b[0mobj\u001b[0m\u001b[0;34m,\u001b[0m \u001b[0mend\u001b[0m \u001b[0;34m=\u001b[0m \u001b[0mself\u001b[0m\u001b[0;34m.\u001b[0m\u001b[0mscan_once\u001b[0m\u001b[0;34m(\u001b[0m\u001b[0ms\u001b[0m\u001b[0;34m,\u001b[0m \u001b[0midx\u001b[0m\u001b[0;34m)\u001b[0m\u001b[0;34m\u001b[0m\u001b[0m\n\u001b[1;32m    356\u001b[0m         \u001b[0;32mexcept\u001b[0m \u001b[0mStopIteration\u001b[0m \u001b[0;32mas\u001b[0m \u001b[0merr\u001b[0m\u001b[0;34m:\u001b[0m\u001b[0;34m\u001b[0m\u001b[0m\n\u001b[0;32m--> 357\u001b[0;31m             \u001b[0;32mraise\u001b[0m \u001b[0mJSONDecodeError\u001b[0m\u001b[0;34m(\u001b[0m\u001b[0;34m\"Expecting value\"\u001b[0m\u001b[0;34m,\u001b[0m \u001b[0ms\u001b[0m\u001b[0;34m,\u001b[0m \u001b[0merr\u001b[0m\u001b[0;34m.\u001b[0m\u001b[0mvalue\u001b[0m\u001b[0;34m)\u001b[0m \u001b[0;32mfrom\u001b[0m \u001b[0;32mNone\u001b[0m\u001b[0;34m\u001b[0m\u001b[0m\n\u001b[0m\u001b[1;32m    358\u001b[0m         \u001b[0;32mreturn\u001b[0m \u001b[0mobj\u001b[0m\u001b[0;34m,\u001b[0m \u001b[0mend\u001b[0m\u001b[0;34m\u001b[0m\u001b[0m\n",
      "\u001b[0;31mJSONDecodeError\u001b[0m: Expecting value: line 1 column 1 (char 0)"
     ]
    }
   ],
   "source": [
    "r_list = [1.0]\n",
    "results = {}\n",
    "for r in r_list:\n",
    "    results[r] = []\n",
    "    gamma_range = np.linspace(0, 1, num=100, dtype=float, endpoint=False)[1:]\n",
    "    for gamma in gamma_range:\n",
    "        results[r].append(run(qobj, gamma, r))"
   ]
  },
  {
   "cell_type": "code",
   "execution_count": null,
   "metadata": {},
   "outputs": [],
   "source": [
    "import matplotlib.pyplot as plt\n",
    "%matplotlib inline\n",
    "\n",
    "plt.rcParams['figure.figsize'] = [10, 7]\n",
    "\n",
    "for r in r_list:\n",
    "    plt.plot(gamma_range, results[r])\n",
    "\n",
    "\n",
    "# plt.legend([x_legend, y_legend, z_legend], loc='best', prop={'size': 14})\n",
    "# plt.xlabel('Noise Parameter', fontsize=16)\n",
    "# plt.ylabel('Frobenius Norm of matrices difference', fontsize=16)\n",
    "pass"
   ]
  },
  {
   "cell_type": "code",
   "execution_count": null,
   "metadata": {},
   "outputs": [],
   "source": []
  }
 ],
 "metadata": {
  "kernelspec": {
   "display_name": "Python 3",
   "language": "python",
   "name": "python3"
  },
  "language_info": {
   "codemirror_mode": {
    "name": "ipython",
    "version": 3
   },
   "file_extension": ".py",
   "mimetype": "text/x-python",
   "name": "python",
   "nbconvert_exporter": "python",
   "pygments_lexer": "ipython3",
   "version": "3.6.4"
  }
 },
 "nbformat": 4,
 "nbformat_minor": 2
}
