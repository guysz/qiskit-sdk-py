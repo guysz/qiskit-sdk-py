{
 "cells": [
  {
   "cell_type": "markdown",
   "metadata": {},
   "source": [
    "# Amplitude damping experience\n",
    "#### Todo: Need to document"
   ]
  },
  {
   "cell_type": "code",
   "execution_count": 7,
   "metadata": {},
   "outputs": [
    {
     "ename": "ModuleNotFoundError",
     "evalue": "No module named 'qiskit.backends.local'",
     "output_type": "error",
     "traceback": [
      "\u001b[0;31m---------------------------------------------------------------------------\u001b[0m",
      "\u001b[0;31mModuleNotFoundError\u001b[0m                       Traceback (most recent call last)",
      "\u001b[0;32m<ipython-input-7-20f2a009be3e>\u001b[0m in \u001b[0;36m<module>\u001b[0;34m()\u001b[0m\n\u001b[1;32m      1\u001b[0m \u001b[0;32mimport\u001b[0m \u001b[0msys\u001b[0m\u001b[0;34m\u001b[0m\u001b[0m\n\u001b[1;32m      2\u001b[0m \u001b[0msys\u001b[0m\u001b[0;34m.\u001b[0m\u001b[0mpath\u001b[0m\u001b[0;34m.\u001b[0m\u001b[0mappend\u001b[0m\u001b[0;34m(\u001b[0m\u001b[0;34m\"../\"\u001b[0m\u001b[0;34m)\u001b[0m\u001b[0;34m\u001b[0m\u001b[0m\n\u001b[0;32m----> 3\u001b[0;31m \u001b[0;32mimport\u001b[0m \u001b[0mqiskit\u001b[0m\u001b[0;34m.\u001b[0m\u001b[0mbackends\u001b[0m\u001b[0;34m.\u001b[0m\u001b[0mlocal\u001b[0m\u001b[0;34m\u001b[0m\u001b[0m\n\u001b[0m",
      "\u001b[0;31mModuleNotFoundError\u001b[0m: No module named 'qiskit.backends.local'"
     ]
    }
   ],
   "source": [
    "import sys\n",
    "sys.path.append(\"../\")\n",
    "import qiskit.backends._qiskit_cpp_simulator."
   ]
  },
  {
   "cell_type": "code",
   "execution_count": 3,
   "metadata": {},
   "outputs": [
    {
     "ename": "ModuleNotFoundError",
     "evalue": "No module named 'qiskit.backends.local'",
     "output_type": "error",
     "traceback": [
      "\u001b[0;31m---------------------------------------------------------------------------\u001b[0m",
      "\u001b[0;31mModuleNotFoundError\u001b[0m                       Traceback (most recent call last)",
      "\u001b[0;32m<ipython-input-3-8550b0e1ff99>\u001b[0m in \u001b[0;36m<module>\u001b[0;34m()\u001b[0m\n\u001b[1;32m      2\u001b[0m \u001b[0;32mimport\u001b[0m \u001b[0mnumpy\u001b[0m \u001b[0;32mas\u001b[0m \u001b[0mnp\u001b[0m\u001b[0;34m\u001b[0m\u001b[0m\n\u001b[1;32m      3\u001b[0m \u001b[0msys\u001b[0m\u001b[0;34m.\u001b[0m\u001b[0mpath\u001b[0m\u001b[0;34m.\u001b[0m\u001b[0mappend\u001b[0m\u001b[0;34m(\u001b[0m\u001b[0;34m\"../\"\u001b[0m\u001b[0;34m)\u001b[0m\u001b[0;34m\u001b[0m\u001b[0m\n\u001b[0;32m----> 4\u001b[0;31m \u001b[0;32mimport\u001b[0m \u001b[0mqiskit\u001b[0m\u001b[0;34m.\u001b[0m\u001b[0mbackends\u001b[0m\u001b[0;34m.\u001b[0m\u001b[0mlocal\u001b[0m\u001b[0;34m.\u001b[0m\u001b[0mqasm_simulator_cpp\u001b[0m \u001b[0;32mas\u001b[0m \u001b[0mqs\u001b[0m\u001b[0;34m\u001b[0m\u001b[0m\n\u001b[0m\u001b[1;32m      5\u001b[0m \u001b[0mSIM_EXECUTABLE\u001b[0m \u001b[0;34m=\u001b[0m \u001b[0;34m'../../yael_branch/qiskit-sdk-py/out/qiskit_simulator'\u001b[0m\u001b[0;34m\u001b[0m\u001b[0m\n\u001b[1;32m      6\u001b[0m \u001b[0;32mdef\u001b[0m \u001b[0mgenerate_counts_vec\u001b[0m\u001b[0;34m(\u001b[0m\u001b[0msim_output\u001b[0m\u001b[0;34m)\u001b[0m\u001b[0;34m:\u001b[0m\u001b[0;34m\u001b[0m\u001b[0m\n",
      "\u001b[0;31mModuleNotFoundError\u001b[0m: No module named 'qiskit.backends.local'"
     ]
    }
   ],
   "source": [
    "import sys\n",
    "import numpy as np\n",
    "sys.path.append(\"../\")\n",
    "import qiskit.backends.local.qasm_simulator_cpp as qs\n",
    "SIM_EXECUTABLE = '../../yael_branch/qiskit-sdk-py/out/qiskit_simulator'\n",
    "def generate_counts_vec(sim_output):\n",
    "    \"\"\"Returns ndarray of length 8 which contains result counts devided by shots_num\"\"\"\n",
    "    vec = np.zeros(8, dtype=int)\n",
    "    for i, count in sim_output['result'][0]['data']['counts'].items():\n",
    "        vec[int(i, 2)] = count\n",
    "        \n",
    "    return vec[np.newaxis] / sim_output['result'][0]['shots']\n",
    "\n",
    "def matrices_calc(g):\n",
    "    \"\"\"\n",
    "    Returns two matrices of size 2x2:\n",
    "    E0 = [\n",
    "            [1,0],\n",
    "            [0, sqrt(1-g)]\n",
    "         ]\n",
    "         \n",
    "    E1 = [\n",
    "            [0, sqrt(g)],\n",
    "            [0,0]\n",
    "         ]\n",
    "    \"\"\"\n",
    "    assert 0 < g < 1, \"Gamma (g) must be between zero to one\"\n",
    "    return [[[1, 0], [0, np.sqrt(1-g)]], [[0, np.sqrt(g)], [0, 0]]]\n",
    "\n",
    "def p_calc(g):\n",
    "    \"\"\"\n",
    "    Returns p out of Gamma - g/2 + 0.5*sqrt(1-g) + 0.5\n",
    "    \"\"\"\n",
    "    assert 0 < g < 1, \"Gamma (g) must be between zero to one\"\n",
    "    return g/2 - 0.5*np.sqrt(1-g) + 0.5\n",
    "\n",
    "def t_calc(p, r):\n",
    "    return -(np.log(1-p))/r\n",
    "\n",
    "def prepare_qobj_exact(qobj, gamma):\n",
    "    qobj['config']['backend'] = 'local_qasm_simulator_cpp'\n",
    "    qobj['config']['noise_params'] = {}\n",
    "    qobj['config']['noise_params']['U'] = {}\n",
    "    qobj['config']['noise_params']['U']['operator_sum'] = matrices_calc(gamma)\n",
    "    qobj['config']['noise_params']['CX'] = {}\n",
    "    qobj['config']['noise_params']['CX']['operator_sum'] = matrices_calc(gamma)\n",
    "\n",
    "    \n",
    "def prepare_qobj_clifford(qobj, gamma, r):\n",
    "    qobj['config']['backend'] = 'local_clifford_simulator_cpp'\n",
    "    qobj['config']['noise_params'] = {}\n",
    "    qobj['config']['noise_params']['relaxation_rate'] = r\n",
    "    qobj['config']['noise_params']['thermal_populations'] = [1.0, 0.0]\n",
    "    qobj['config']['noise_params']['U'] = {}\n",
    "    qobj['config']['noise_params']['U']['gate_time'] = t_calc(p_calc(gamma), r)\n",
    "    qobj['config']['noise_params']['CX'] = {}\n",
    "    qobj['config']['noise_params']['CX']['gate_time'] = t_calc(p_calc(gamma), r)\n",
    "#     qobj['config']['noise_params']['X90'] = {}\n",
    "#     qobj['config']['noise_params']['X90']['gate_time'] = t_calc(p_calc(gamma), r)\n",
    "    \n",
    "def run(qobj, gamma, r):\n",
    "    \"\"\"\n",
    "    Runs both simulators\n",
    "    Then compute the norm.\n",
    "    \"\"\"\n",
    "\n",
    "    # run exact simulator\n",
    "    prepare_qobj_exact(qobj, gamma)\n",
    "    exact_vec = generate_counts_vec(qs.run(qobj, SIM_EXECUTABLE))\n",
    "    \n",
    "    # run clifford simulator\n",
    "    prepare_qobj_clifford(qobj, gamma, r)\n",
    "    clifford_vec = generate_counts_vec(qs.run(qobj, SIM_EXECUTABLE))\n",
    "    \n",
    "    exact_matrix = exact_vec.T * exact_vec\n",
    "    clifford_matrix = clifford_vec.T * clifford_vec\n",
    "    \n",
    "    return np.linalg.norm(exact_matrix - clifford_matrix)\n",
    "\n",
    "\n"
   ]
  },
  {
   "cell_type": "code",
   "execution_count": null,
   "metadata": {},
   "outputs": [],
   "source": [
    "qobj = {\n",
    "  \"id\": \"First Clifford Experiment\",\n",
    "  \"config\": {\n",
    "      \"shots\": 1000,\n",
    "      \"seed\": 412\n",
    "  },\n",
    "  \"circuits\": [\n",
    "    {\n",
    "      \"compiled_circuit\": {\n",
    "        \"header\": {\n",
    "                    \"number_of_clbits\": 3,\n",
    "                    \"number_of_qubits\": 3,\n",
    "                    \"clbit_labels\": [[\"c\", 3]],\n",
    "                    \"qubit_labels\": [[\"q\", 0], [\"q\", 1], [\"q\", 2]]\n",
    "                },\n",
    "        \"operations\": [\n",
    "                    {\"name\": \"h\", \"qubits\": [1]},\n",
    "                    {\"name\": \"CX\", \"qubits\": [1, 0]},\n",
    "                    {\"name\": \"measure\", \"qubits\": [0], \"clbits\": [0]},\n",
    "                    {\"name\": \"measure\", \"qubits\": [1], \"clbits\": [1]},\n",
    "                    {\"name\": \"measure\", \"qubits\": [2], \"clbits\": [2]}\n",
    "                ]\n",
    "      }\n",
    "\n",
    "    }\n",
    "  ]\n",
    "}"
   ]
  },
  {
   "cell_type": "code",
   "execution_count": null,
   "metadata": {},
   "outputs": [],
   "source": [
    "r_list = [0.5, 1.0, 1.5, 2.0, 2.5, 3]\n",
    "results = {}\n",
    "for r in r_list:\n",
    "    results[r] = []\n",
    "    gamma_range = np.linspace(0, 1, num=100, dtype=float, endpoint=False)[1:]\n",
    "    for gamma in gamma_range:\n",
    "        results[r].append(run(qobj, gamma, r))"
   ]
  },
  {
   "cell_type": "code",
   "execution_count": null,
   "metadata": {},
   "outputs": [],
   "source": [
    "import matplotlib.pyplot as plt\n",
    "%matplotlib inline\n",
    "\n",
    "plt.rcParams['figure.figsize'] = [10, 7]\n",
    "\n",
    "for r in r_list:\n",
    "    plt.plot(gamma_range, results[r])\n",
    "\n",
    "\n",
    "plt.legend(['r = %.3f' % r for r in r_list], loc='best', prop={'size': 14})\n",
    "plt.xlabel('Gamma', fontsize=16)\n",
    "plt.ylabel('Frobenius Norm of matrices difference', fontsize=16)\n",
    "pass"
   ]
  }
 ],
 "metadata": {
  "kernelspec": {
   "display_name": "Python 3",
   "language": "python",
   "name": "python3"
  },
  "language_info": {
   "codemirror_mode": {
    "name": "ipython",
    "version": 3
   },
   "file_extension": ".py",
   "mimetype": "text/x-python",
   "name": "python",
   "nbconvert_exporter": "python",
   "pygments_lexer": "ipython3",
   "version": "3.6.4"
  }
 },
 "nbformat": 4,
 "nbformat_minor": 2
}
