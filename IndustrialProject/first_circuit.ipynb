{
 "cells": [
  {
   "cell_type": "markdown",
   "metadata": {},
   "source": [
    "# First project task - running a simple circuit with noises"
   ]
  },
  {
   "cell_type": "code",
   "execution_count": null,
   "metadata": {},
   "outputs": [],
   "source": [
    "import qiskit.backends._qiskit_cpp_simulator as qs\n",
    "SIM_EXECUTABLE = '../out/src/qasm-simulator-cpp/qasm_simulator_cpp'\n",
    "\n",
    "qobj = {\n",
    "  \"id\": \"first_try\",\n",
    "  \"config\": {\n",
    "      \"backend_name\": \"local_qasm_simulator\",\n",
    "      \"shots\": 1,\n",
    "      \"data\": [\"density_matrix\"],\n",
    "      \"noise_params\": {\n",
    "        \"id\": {\"p_pauli\": [0, 0, 0.01]}\n",
    "      }\n",
    "  },\n",
    "  \"circuits\": [\n",
    "    {\n",
    "      \"name\": \"my_first_try\",\n",
    "      \"compiled_circuit\": {\n",
    "        \"header\": {\n",
    "                    \"clbit_labels\": [],\n",
    "                    \"number_of_clbits\": 0,\n",
    "                    \"number_of_qubits\": 3,\n",
    "                    \"qubit_labels\": [[\"q\", 0], [\"q\", 1], [\"q\", 2]]\n",
    "                },\n",
    "        \"operations\": [\n",
    "                    {\"name\": \"id\", \"qubits\": [0]},\n",
    "                    {\"name\": \"id\", \"qubits\": [1]},\n",
    "                    {\"name\": \"id\", \"qubits\": [2]},\n",
    "                    {\"name\": \"snapshot\", \"params\": [0]}\n",
    "                ]\n",
    "      }\n",
    "    }\n",
    "  ]\n",
    "}\n",
    "\n",
    "result = qs.run(qobj, SIM_EXECUTABLE)"
   ]
  },
  {
   "cell_type": "code",
   "execution_count": null,
   "metadata": {},
   "outputs": [],
   "source": [
    "density_matrix = result['result'][0]['data']['snapshots']['0']['density_matrix']"
   ]
  },
  {
   "cell_type": "code",
   "execution_count": null,
   "metadata": {},
   "outputs": [],
   "source": []
  }
 ],
 "metadata": {
  "kernelspec": {
   "display_name": "Python 3",
   "language": "python",
   "name": "python3"
  },
  "language_info": {
   "codemirror_mode": {
    "name": "ipython",
    "version": 3
   },
   "file_extension": ".py",
   "mimetype": "text/x-python",
   "name": "python",
   "nbconvert_exporter": "python",
   "pygments_lexer": "ipython3",
   "version": "3.6.4"
  }
 },
 "nbformat": 4,
 "nbformat_minor": 2
}
