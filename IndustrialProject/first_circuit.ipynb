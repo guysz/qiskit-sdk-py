{
 "cells": [
  {
   "cell_type": "markdown",
   "metadata": {},
   "source": [
    "# First project task - running a simple circuit with noises"
   ]
  },
  {
   "cell_type": "code",
   "execution_count": 1,
   "metadata": {},
   "outputs": [],
   "source": [
    "import sys\n",
    "sys.path.append(\"../\")\n",
    "import qiskit.backends.local.qasm_simulator_cpp as qs\n",
    "from project_common import extract_density_matrix\n",
    "\n",
    "SIM_EXECUTABLE = '../out/src/qasm-simulator-cpp/qasm_simulator_cpp'\n",
    "\n",
    "qobj = {\n",
    "  \"id\": \"first_try\",\n",
    "  \"config\": {\n",
    "      \"data\": [\"density_matrix\"],\n",
    "      \"noise_params\": {\n",
    "        \"id\": {\"p_pauli\": [0.1, -0.1, 0]}\n",
    "      },\n",
    "      \"backend_name\": \"local_qasm_simulator\",\n",
    "      \"shots\": 5,\n",
    "      \n",
    "  },\n",
    "  \"circuits\": [\n",
    "    {\n",
    "\n",
    "      \"name\": \"my_first_try\",\n",
    "      \"compiled_circuit\": {\n",
    "        \"header\": {\n",
    "                    \"clbit_labels\": [],\n",
    "                    \"number_of_clbits\": 0,\n",
    "                    \"number_of_qubits\": 3,\n",
    "                    \"qubit_labels\": [[\"q\", 0], [\"q\", 1], [\"q\", 2]]\n",
    "                },\n",
    "        \"operations\": [\n",
    "                    {\"name\": \"id\", \"qubits\": [0]},\n",
    "                    {\"name\": \"id\", \"qubits\": [1]},\n",
    "                    {\"name\": \"id\", \"qubits\": [2]},\n",
    "                    {\"name\": \"snapshot\", \"params\": [0]}\n",
    "                ]\n",
    "      }\n",
    "    }\n",
    "  ]\n",
    "}\n",
    "\n",
    "sim_output = qs.run(qobj, SIM_EXECUTABLE)"
   ]
  },
  {
   "cell_type": "code",
   "execution_count": 2,
   "metadata": {},
   "outputs": [
    {
     "name": "stdout",
     "output_type": "stream",
     "text": [
      "{'backend': 'qasm_simulator_cpp', 'cpp_simulator_kernel': 'qasm_simulator_cpp', 'id': 'first_try', 'result': [{'data': {'snapshots': {'0': {'density_matrix': array([[0.2+0.j, 0. +0.j, 0. +0.j, 0. +0.j, 0. +0.j, 0. +0.j, 0. +0.j,\n",
      "        0. +0.j],\n",
      "       [0. +0.j, 0. +0.j, 0. +0.j, 0. +0.j, 0. +0.j, 0. +0.j, 0. +0.j,\n",
      "        0. +0.j],\n",
      "       [0. +0.j, 0. +0.j, 0. +0.j, 0. +0.j, 0. +0.j, 0. +0.j, 0. +0.j,\n",
      "        0. +0.j],\n",
      "       [0. +0.j, 0. +0.j, 0. +0.j, 0. +0.j, 0. +0.j, 0. +0.j, 0. +0.j,\n",
      "        0. +0.j],\n",
      "       [0. +0.j, 0. +0.j, 0. +0.j, 0. +0.j, 0. +0.j, 0. +0.j, 0. +0.j,\n",
      "        0. +0.j],\n",
      "       [0. +0.j, 0. +0.j, 0. +0.j, 0. +0.j, 0. +0.j, 0. +0.j, 0. +0.j,\n",
      "        0. +0.j],\n",
      "       [0. +0.j, 0. +0.j, 0. +0.j, 0. +0.j, 0. +0.j, 0. +0.j, 0. +0.j,\n",
      "        0. +0.j],\n",
      "       [0. +0.j, 0. +0.j, 0. +0.j, 0. +0.j, 0. +0.j, 0. +0.j, 0. +0.j,\n",
      "        0. +0.j]]), 'quantum_state': [array([1.+0.j, 0.+0.j, 0.+0.j, 0.+0.j, 0.+0.j, 0.+0.j, 0.+0.j, 0.+0.j])]}}}, 'name': 'my_first_try', 'seed': 1910064414, 'shots': 5, 'status': 'DONE', 'success': True, 'threads_gates': 4, 'time_taken': 0.000180511}], 'status': 'COMPLETED', 'success': True, 'time_taken': 0.00021379800000000002}\n"
     ]
    }
   ],
   "source": [
    "print(sim_output)"
   ]
  }
 ],
 "metadata": {
  "kernelspec": {
   "display_name": "Python 3",
   "language": "python",
   "name": "python3"
  },
  "language_info": {
   "codemirror_mode": {
    "name": "ipython",
    "version": 3
   },
   "file_extension": ".py",
   "mimetype": "text/x-python",
   "name": "python",
   "nbconvert_exporter": "python",
   "pygments_lexer": "ipython3",
   "version": "3.6.4"
  }
 },
 "nbformat": 4,
 "nbformat_minor": 2
}
